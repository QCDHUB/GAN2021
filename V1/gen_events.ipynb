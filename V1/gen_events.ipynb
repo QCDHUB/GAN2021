{
 "cells": [
  {
   "cell_type": "markdown",
   "metadata": {},
   "source": [
    "# Imports"
   ]
  },
  {
   "cell_type": "code",
   "execution_count": 1,
   "metadata": {},
   "outputs": [],
   "source": [
    "# Python imports\n",
    "import sys,os\n",
    "import numpy as np\n",
    "import pylab as py\n",
    "import pandas as pd\n",
    "import matplotlib\n",
    "import matplotlib.pyplot as plt\n",
    "import matplotlib.colors as mcolors\n",
    "import scipy.special as spec\n",
    "import warnings\n",
    "from matplotlib.lines import Line2D\n",
    "from matplotlib.patches import Patch"
   ]
  },
  {
   "cell_type": "code",
   "execution_count": 2,
   "metadata": {},
   "outputs": [
    {
     "name": "stdout",
     "output_type": "stream",
     "text": [
      "WARNING:tensorflow:From /opt/conda/lib/python3.7/site-packages/tensorflow/python/ops/init_ops.py:1251: calling VarianceScaling.__init__ (from tensorflow.python.ops.init_ops) with dtype is deprecated and will be removed in a future version.\n",
      "Instructions for updating:\n",
      "Call initializer instance with the dtype argument instead of passing it to the constructor\n"
     ]
    }
   ],
   "source": [
    "# Own .py file imports\n",
    "with warnings.catch_warnings():\n",
    "    warnings.filterwarnings(\"ignore\",category=FutureWarning)\n",
    "    import mceg\n",
    "    from tools import load, save, checkdir,lprint"
   ]
  },
  {
   "cell_type": "markdown",
   "metadata": {},
   "source": [
    "# Auxiliary definitions"
   ]
  },
  {
   "cell_type": "code",
   "execution_count": 3,
   "metadata": {},
   "outputs": [],
   "source": [
    "# Constants\n",
    "Mp = 0.93827\n",
    "Mpi = 0.1395"
   ]
  },
  {
   "cell_type": "code",
   "execution_count": 4,
   "metadata": {},
   "outputs": [],
   "source": [
    "# Auxiliary function for histogram generation\n",
    "def get_xy_steps(xbins,yvalues):\n",
    "    X,Y=[],[]\n",
    "    for i in range(len(xbins)-1):\n",
    "        x1=xbins[i]\n",
    "        x2=xbins[i+1]\n",
    "        y=yvalues[i]            \n",
    "        X.append(x1)\n",
    "        Y.append(y)\n",
    "        X.append(x2)\n",
    "        Y.append(y)\n",
    "    return np.array(X),np.array(Y) "
   ]
  },
  {
   "cell_type": "code",
   "execution_count": 5,
   "metadata": {},
   "outputs": [],
   "source": [
    "# Auxiliary functions for manipulation of arrays of 4-vectors\n",
    "def dot(A,B):\n",
    "    return A[0]*B[0] - A[1]*B[1] - A[2]*B[2] - A[3]*B[3]\n",
    "\n",
    "def add(A,B):\n",
    "    ApB={}\n",
    "    ApB[0]=A[0]+B[0] \n",
    "    ApB[1]=A[1]+B[1] \n",
    "    ApB[2]=A[2]+B[2] \n",
    "    ApB[3]=A[3]+B[3] \n",
    "    return ApB\n",
    "\n",
    "def sub(A,B):\n",
    "    AmB={}\n",
    "    AmB[0]=A[0]-B[0] \n",
    "    AmB[1]=A[1]-B[1] \n",
    "    AmB[2]=A[2]-B[2] \n",
    "    AmB[3]=A[3]-B[3] \n",
    "    return AmB"
   ]
  },
  {
   "cell_type": "markdown",
   "metadata": {},
   "source": [
    "# Generating and storing GAN events"
   ]
  },
  {
   "cell_type": "code",
   "execution_count": 6,
   "metadata": {},
   "outputs": [],
   "source": [
    "# This generates CM-frame GAN events and stores the information needed from them:\n",
    "# 4-momenta and invariants\n",
    "def gen_CM(nsamples=1000):\n",
    "    evts=mceg.gen_samples(nsamples)\n",
    "    samples=evts.T\n",
    "    MX2=samples[0] # squared missing mass of the pi-\n",
    "    N = len(MX2)\n",
    "    ome=samples[1] # photon energy in the CM frame\n",
    "    rec={} # recoil-proton 4-momentum\n",
    "    rec[0]=samples[11]\n",
    "    rec[1]=samples[2]\n",
    "    rec[2]=samples[5]\n",
    "    rec[3]=samples[8]\n",
    "    pip={}  # pi+ 4-momentum\n",
    "    pip[0]=samples[12]\n",
    "    pip[1]=samples[3]\n",
    "    pip[2]=samples[6]\n",
    "    pip[3]=samples[9]\n",
    "    pim={}  # missing pi- 4-momentum\n",
    "    pim[0]=samples[13]\n",
    "    pim[1]=samples[4]\n",
    "    pim[2]=samples[7]\n",
    "    pim[3]=samples[10]\n",
    "    beam={}  # photon 4-momentum\n",
    "    beam[0]=ome\n",
    "    beam[1]=np.zeros(N)\n",
    "    beam[2]=np.zeros(N)\n",
    "    beam[3]=ome\n",
    "    targ={}  # target 4-momentum\n",
    "    targ[0]=np.sqrt(ome**2+Mp**2*np.ones(N))\n",
    "    targ[1]=np.zeros(N)\n",
    "    targ[2]=np.zeros(N)\n",
    "    targ[3]=-ome\n",
    "    \n",
    "    Complex=lambda a,b: a+complex(0,1)*b\n",
    "    \n",
    "    Mpipi=np.sqrt(Complex(dot(add(pim,pip),add(pim,pip)),0.))  # pi+pi- invariant mass\n",
    "    s=dot(add(targ,beam),add(targ,beam))  # photon-target invariant mass squared\n",
    "    sppip=dot(add(rec,pip),add(rec,pip))  # recoil-pi+ invariant mass squared\n",
    "    sppim=dot(add(rec,pim),add(rec,pim))  # recoil-pi- invariant mass squared\n",
    "    t=dot(sub(targ,rec),sub(targ,rec))  # Mandelstam t (target - recoil)^2\n",
    "    tpip=dot(sub(beam,pip),sub(beam,pip))  # Mandelstam t for (photon - pi+)^2\n",
    "    tpim=dot(sub(beam,pim),sub(beam,pim))  # Mandelstam t for (photon - pi-)^2\n",
    "    nu = (s-Mp**2*np.ones(N))/(2.*Mp) # photon energy in the lab frame\n",
    "    ganevents=beam,targ,pip,pim,rec,MX2,nu,Mpipi,s,sppip,sppim,t,tpip,tpim\n",
    "    ganeventstxt=beam[0],beam[1],beam[2],beam[3],targ[0],targ[1],targ[2],targ[3],pip[0],pip[1],pip[2],pip[3],pim[0],pim[1],pim[2],pim[3],rec[0],rec[1],rec[2],rec[3],MX2,nu,Mpipi,s,sppip,sppim,t,tpip,tpim\n",
    "    checkdir('./evtsnpy')  \n",
    "    np.save('./evtsnpy/GAN_evts-CM.npy', ganevents)# Change the save directory at will to one with enough storage space!\n",
    "    #np.savetxt('./evtsnpy/GAN_evts-CM.txt', ganeventstxt)# If you prefer, you can save the arrays as text files"
   ]
  },
  {
   "cell_type": "markdown",
   "metadata": {},
   "source": [
    "# Plotter"
   ]
  },
  {
   "cell_type": "code",
   "execution_count": 14,
   "metadata": {},
   "outputs": [],
   "source": [
    "# This creates and stores numpy data for histograms: here we show the example for a pi+pi- invariant mass histogram\n",
    "def gen_hist(bins = 100,rand=100):\n",
    "    ganevents=np.load('./evtsnpy/GAN_evts-CM.npy',allow_pickle=True)\n",
    "    beam,targ,pip,pim,rec,MX2,nu,Mpipi,s,sppip,sppim,t,tpip,tpim=ganevents\n",
    "    # In the following we keep only those data that are within some choice of cuts\n",
    "    I=[i for i in range(MX2.size) if (3.8>nu[i]>3.0 and abs(MX2[i]-0.019)<0.06)]\n",
    "    Mpipi=Mpipi[I]\n",
    "    cnt=len(Mpipi)\n",
    "    # The range of Mpipi to be plotted\n",
    "    Rpipi=(0.4,1.4)\n",
    "    Y=[]\n",
    "    '''\n",
    "    For error bands, we bootstrap n=rand times over samples of subsets with replacement of size=fullsize.\n",
    "    '''\n",
    "    for k in range(rand):    \n",
    "        subset=np.random.choice(np.arange(cnt),cnt,replace=True)\n",
    "        Mpipisubs=Mpipi[subset]\n",
    "        H,E=np.histogram(Mpipisubs,range=Rpipi,bins=bins)\n",
    "        x,y=get_xy_steps(E,H/cnt)\n",
    "        Y.append(y)\n",
    "    avy=np.mean(Y,axis=0)\n",
    "    dy=np.std(Y,axis=0)\n",
    "    data={}\n",
    "    data['X']=x\n",
    "    data['Y']=avy\n",
    "    data['dY']=dy #--statistical uncertainties\n",
    "    data['Ymin']=avy-dy\n",
    "    data['Ymax']=avy+dy\n",
    "    checkdir('data')\n",
    "    save(data,'data/hist-gan-CM.po')\n",
    "    return\n",
    "\n",
    "# Plotter for the above example histogram data from the GAN generator\n",
    "def gen_hist_plots():\n",
    "    gan1=load('data/hist-gan-CM.po')\n",
    "    \n",
    "    nrows,ncols=1,1\n",
    "    fig = py.figure(figsize=(ncols*5,nrows*4))\n",
    "\n",
    "    ########################\n",
    "    ax=py.subplot(nrows,ncols,1)\n",
    "    hg1 =ax.fill_between(gan1['X'],gan1['Ymin'],gan1['Ymax'],color='b',alpha=0.5)\n",
    "    lg1,=ax.plot(gan1['X'],gan1['Y'],'b-')\n",
    "    ax.legend([(hg1,lg1)],[r'lab-frame GAN'])\n",
    "    ax.set_xlabel(r'$M_{\\pi\\pi}$',size=20)\n",
    "    ax.set_ylabel(r'Normalized events',size=20)\n",
    "\n",
    "    ########################\n",
    "    checkdir('gallery')\n",
    "    py.tight_layout()\n",
    "    py.savefig('gallery/Mpipi_CM-GAN.pdf')\n",
    "    return"
   ]
  },
  {
   "cell_type": "markdown",
   "metadata": {},
   "source": [
    "# Runs all needed functions for example case"
   ]
  },
  {
   "cell_type": "code",
   "execution_count": 24,
   "metadata": {},
   "outputs": [
    {
     "name": "stdout",
     "output_type": "stream",
     "text": [
      "[-0.17887932 -1.8054329   0.3487121  -0.0302002   0.5723231  -0.6334553\n",
      " -0.50205433  1.7155753   0.2792464   0.5394677   0.3426063  -1.0575738\n",
      "  0.81603706  1.1336704  -0.81382716  0.9130233  -0.5772311  -0.44122395\n",
      "  0.3731695 ]\n"
     ]
    }
   ],
   "source": [
    "# Generates a nsamples-sized batch of GAN data\n",
    "gen_CM(nsamples=100000)"
   ]
  },
  {
   "cell_type": "code",
   "execution_count": 25,
   "metadata": {},
   "outputs": [],
   "source": [
    "ganevents=np.load('./evtsnpy/GAN_evts-CM.npy',allow_pickle=True)\n",
    "beam,targ,pip,pim,rec,MX2,nu,Mpipi,s,sppip,sppim,t,tpip,tpim=ganevents"
   ]
  },
  {
   "cell_type": "code",
   "execution_count": 26,
   "metadata": {},
   "outputs": [
    {
     "name": "stdout",
     "output_type": "stream",
     "text": [
      "[1.1715295441451221, 0.0, 0.0, 1.1715295441451221]\n",
      "[0.10510869992988403, 7.142113374451905, -0.5523247315132649]\n"
     ]
    }
   ],
   "source": [
    "print([beam[0][0],beam[1][0],beam[2][0],beam[3][0]])\n",
    "print([MX2[0],s[0],t[0]])"
   ]
  },
  {
   "cell_type": "code",
   "execution_count": 27,
   "metadata": {},
   "outputs": [
    {
     "name": "stderr",
     "output_type": "stream",
     "text": [
      "/opt/conda/lib/python3.7/site-packages/numpy/lib/histograms.py:844: ComplexWarning: Casting complex values to real discards the imaginary part\n",
      "  indices = f_indices.astype(np.intp)\n",
      "/opt/conda/lib/python3.7/site-packages/matplotlib/axes/_axes.py:5285: ComplexWarning: Casting complex values to real discards the imaginary part\n",
      "  X[0] = start\n",
      "/opt/conda/lib/python3.7/site-packages/matplotlib/axes/_axes.py:5286: ComplexWarning: Casting complex values to real discards the imaginary part\n",
      "  X[N + 1] = end\n",
      "/opt/conda/lib/python3.7/site-packages/matplotlib/axes/_axes.py:5288: ComplexWarning: Casting complex values to real discards the imaginary part\n",
      "  X[1:N + 1, 0] = xslice\n",
      "/opt/conda/lib/python3.7/site-packages/matplotlib/axes/_axes.py:5290: ComplexWarning: Casting complex values to real discards the imaginary part\n",
      "  X[N + 2:, 0] = xslice[::-1]\n",
      "/opt/conda/lib/python3.7/site-packages/numpy/core/_asarray.py:85: ComplexWarning: Casting complex values to real discards the imaginary part\n",
      "  return array(a, dtype, copy=False, order=order)\n"
     ]
    },
    {
     "data": {
      "image/png": "[encoded data removed]",
      "text/plain": [
       "<Figure size 360x288 with 1 Axes>"
      ]
     },
     "metadata": {
      "needs_background": "light"
     },
     "output_type": "display_data"
    }
   ],
   "source": [
    "# Generates histogram data with nbins=bins,\n",
    "# bootstrapping n=rand times over random samples with replacement of size=fullsize.\n",
    "gen_hist(bins=30,rand=1000)\n",
    "gen_hist_plots()"
   ]
  },
  {
   "cell_type": "code",
   "execution_count": null,
   "metadata": {},
   "outputs": [],
   "source": []
  }
 ],
 "metadata": {
  "kernelspec": {
   "display_name": "Python 3",
   "language": "python",
   "name": "python3"
  },
  "language_info": {
   "codemirror_mode": {
    "name": "ipython",
    "version": 3
   },
   "file_extension": ".py",
   "mimetype": "text/x-python",
   "name": "python",
   "nbconvert_exporter": "python",
   "pygments_lexer": "ipython3",
   "version": "3.7.3"
  }
 },
 "nbformat": 4,
 "nbformat_minor": 4
}
