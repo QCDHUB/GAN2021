{
 "cells": [
  {
   "cell_type": "code",
   "execution_count": 1,
   "metadata": {},
   "outputs": [
    {
     "name": "stderr",
     "output_type": "stream",
     "text": [
      "Using TensorFlow backend.\n"
     ]
    }
   ],
   "source": [
    "from __future__ import print_function, division\n",
    "\n",
    "from keras.datasets import mnist\n",
    "from keras.layers import Input, Dense, Reshape, Flatten, Dropout, Lambda\n",
    "from keras.layers import BatchNormalization, Activation, ZeroPadding2D, multiply, concatenate\n",
    "from keras.layers.advanced_activations import LeakyReLU\n",
    "from keras.layers.convolutional import UpSampling2D, Conv2D\n",
    "from keras.models import Sequential, Model\n",
    "from keras.optimizers import Adam\n",
    "\n",
    "import matplotlib.pyplot as plt\n",
    "\n",
    "import sys\n",
    "\n",
    "import numpy as np\n",
    "import os\n",
    "os.environ[\"CUDA_VISIBLE_DEVICES\"]=\"3\""
   ]
  },
  {
   "cell_type": "code",
   "execution_count": 2,
   "metadata": {},
   "outputs": [],
   "source": [
    "# -- create toy vertex and detector\n",
    "def toy_data(N = 1000000, factor = 0.3, hole = 0.05, fill_hole = 0):\n",
    "    \n",
    "    vertex = np.random.randn(N,1) * factor\n",
    "    detector = np.copy(vertex)\n",
    "    \n",
    "    # -- loop and fill zeros in the hole\n",
    "    for i in range(N):\n",
    "        if (detector[i] < hole) & (detector[i]> - hole):\n",
    "            detector[i] = fill_hole\n",
    "            \n",
    "    return vertex, detector\n",
    "\n",
    "# -- plot data\n",
    "def plot_data(vertex, detector, hole=True):\n",
    "    plt.hist(vertex, bins = 100, color = 'lightblue', label = 'vertex toy 1')\n",
    "    if hole:\n",
    "        plt.hist(detector[detector !=0], histtype='step', bins = 100, color = 'red', label = 'detector toy 1')\n",
    "    else:\n",
    "        plt.hist(detector, histtype='step', bins = 100, color = 'red', label = 'detector toy 1')\n",
    "\n",
    "    plt.legend()\n",
    "    plt.show()"
   ]
  },
  {
   "cell_type": "code",
   "execution_count": 3,
   "metadata": {},
   "outputs": [
    {
     "data": {
      "text/plain": [
       "((1000000, 1), (1000000, 1))"
      ]
     },
     "execution_count": 3,
     "metadata": {},
     "output_type": "execute_result"
    }
   ],
   "source": [
    "vertex, detector = toy_data()\n",
    "vertex.shape, detector.shape"
   ]
  },
  {
   "cell_type": "code",
   "execution_count": 4,
   "metadata": {},
   "outputs": [
    {
     "data": {
      "image/png": "[encoded data removed]",
      "text/plain": [
       "<Figure size 432x288 with 1 Axes>"
      ]
     },
     "metadata": {},
     "output_type": "display_data"
    }
   ],
   "source": [
    "# -- if hole is false, then plot with zeros in the hole\n",
    "plot_data(vertex, detector[:,0], hole = True)"
   ]
  },
  {
   "cell_type": "code",
   "execution_count": 5,
   "metadata": {},
   "outputs": [],
   "source": [
    "# -- create the label hand assign zero if the event is missing\n",
    "ones = np.ones(1000000)\n",
    "ones = ones.reshape(-1,1 )\n",
    "\n",
    "for i in range(1000000):\n",
    "    if detector[i] ==0:\n",
    "        ones[i] =0"
   ]
  },
  {
   "cell_type": "code",
   "execution_count": 6,
   "metadata": {},
   "outputs": [
    {
     "data": {
      "text/plain": [
       "(1000000, 2)"
      ]
     },
     "execution_count": 6,
     "metadata": {},
     "output_type": "execute_result"
    }
   ],
   "source": [
    "detector = np.append(detector, ones, axis=1)\n",
    "detector.shape"
   ]
  },
  {
   "cell_type": "code",
   "execution_count": 23,
   "metadata": {},
   "outputs": [],
   "source": [
    "class LSGAN():\n",
    "    def __init__(self):\n",
    "        self.latent_dim = 100\n",
    "\n",
    "        optimizer = Adam(0.0002, 0.5)\n",
    "\n",
    "          # Build and compile the discriminator\n",
    "        self.discriminator = self.build_discriminator()\n",
    "    \n",
    "        self.discriminator.compile(loss=['mse'],\n",
    "            optimizer=optimizer,\n",
    "            metrics=['accuracy'])\n",
    "\n",
    "        # Build the generator\n",
    "        self.generator = self.build_generator()\n",
    "\n",
    "        \n",
    "\n",
    "        # The generator takes noise and the target label as input\n",
    "        # and generates the corresponding digit of that label\n",
    "        label = Input(shape=(1,))\n",
    "        noise = Input(shape=(100,))\n",
    "\n",
    "        img = self.generator([label, noise])\n",
    "        \n",
    "\n",
    "        # For the combined model we will only train the generator\n",
    "        self.discriminator.trainable = False\n",
    "\n",
    "        # The discriminator takes generated image as input and determines validity\n",
    "        # and the label of that image\n",
    "\n",
    "        valid = self.discriminator(img)\n",
    "        \n",
    "\n",
    "        # The combined model  (stacked generator and discriminator)\n",
    "        # Trains generator to fool discriminator\n",
    "        self.combined = Model([label, noise], valid)\n",
    "        self.combined.compile(loss=['mse'],\n",
    "            optimizer=optimizer)\n",
    "\n",
    "\n",
    "    def build_generator(self):\n",
    "        p0 = Input(shape=(1,))\n",
    "        noise = Input(shape=(100,))\n",
    "        visible = concatenate([p0, noise])\n",
    "        hidden1 = Dense(256)(visible)\n",
    "        LR = LeakyReLU(alpha=0.2)(hidden1)\n",
    "        LR = BatchNormalization(momentum=0.8)(LR)\n",
    "        hidden2 = Dense(512)(LR)\n",
    "        LR = LeakyReLU(alpha=0.2)(hidden2)\n",
    "        LR = BatchNormalization(momentum=0.8)(LR)   \n",
    "        hidden3 = Dense(1024)(LR)\n",
    "        LR = LeakyReLU(alpha=0.2)(hidden3)\n",
    "        LR = BatchNormalization(momentum=0.8)(LR)\n",
    "        output = Dense(1)(LR)\n",
    "        ar = Dense(1, activation = 'sigmoid')(LR)\n",
    "        features = concatenate([output, ar])\n",
    "        detector = Lambda(self.reject)(features)\n",
    "\n",
    "        outputmerge = concatenate([p0, detector, ar])\n",
    "\n",
    "        generator = Model(inputs=[p0, noise], outputs=[outputmerge])\n",
    "        generator.summary()\n",
    "        return(generator)\n",
    "    \n",
    "    \n",
    "    def reject(self, x):\n",
    "        detector = x[:, 0:1]\n",
    "        ar = x[:, 1:2]\n",
    "\n",
    "        detector = detector * ar\n",
    "\n",
    "        return detector\n",
    "    \n",
    "    \n",
    "    \n",
    "    def feature_mul(self, x):\n",
    "        \n",
    "        detector = x[:, 0:1]\n",
    "        ar = x[:, 1:2]\n",
    "        detector = ar * detector\n",
    "    \n",
    "        return detector\n",
    "\n",
    "    def build_discriminator(self):\n",
    "        visible = Input(shape=(3,))\n",
    "        hidden1 = Dense(512)(visible)\n",
    "        LR = LeakyReLU(alpha=0.2)(hidden1)\n",
    "        LR = Dropout(0.1)(LR)\n",
    "        hidden2 = Dense(256)(LR)\n",
    "        LR = LeakyReLU(alpha=0.2)(hidden2)\n",
    "        LR = Dropout(0.1)(LR)\n",
    "        output = Dense(1)(LR)\n",
    "\n",
    "        discriminator = Model(inputs=[visible], outputs=output)\n",
    "        discriminator.summary()\n",
    "        return discriminator\n",
    "\n",
    "    def train(self, epochs, batch_size=128, sample_interval=50):\n",
    "\n",
    "        X_train = detector\n",
    "        y_train = vertex\n",
    "        # Adversarial ground truths\n",
    "        valid = np.ones((batch_size, 1))\n",
    "        fake = np.zeros((batch_size, 1))\n",
    "\n",
    "        for epoch in range(epochs):\n",
    "\n",
    "            # ---------------------\n",
    "            #  Train Discriminator\n",
    "            # ---------------------\n",
    "\n",
    "            # Select a random batch of images\n",
    "            idx = np.random.randint(0, X_train.shape[0], batch_size)\n",
    "            imgs, labels = X_train[idx], y_train[idx]\n",
    "\n",
    "            # Sample noise as generator input\n",
    "            noise = np.random.normal(0, 1, (batch_size, 100))\n",
    "\n",
    "            # Generate a half batch of new images\n",
    "            gen_imgs = self.generator.predict([labels, noise])\n",
    "\n",
    "            # Train the discriminator\n",
    "            real = np.append(labels, imgs, axis = 1)\n",
    "            # Train the discriminator\n",
    "            d_loss_real = self.discriminator.train_on_batch(real, valid)\n",
    "            d_loss_fake = self.discriminator.train_on_batch(gen_imgs, fake)\n",
    "            d_loss = 0.5 * np.add(d_loss_real, d_loss_fake)\n",
    "\n",
    "            # ---------------------\n",
    "            #  Train Generator\n",
    "            # ---------------------\n",
    "\n",
    "            # Condition on labels\n",
    "            sampled_labels = y_train[:batch_size]\n",
    "            noise = noise[:batch_size]\n",
    "            #print(noise.shape)\n",
    "\n",
    "            # Train the generator\n",
    "            g_loss = self.combined.train_on_batch([sampled_labels, noise], valid)\n",
    "\n",
    "            # Plot the progress\n",
    "            \n",
    "            # If at save interval => save generated image samples\n",
    "            if epoch % sample_interval == 0:\n",
    "                print (\"%d [D loss: %f, acc.: %.2f%%] [G loss: %f]\" % (epoch, d_loss[0], 100*d_loss[1], g_loss))\n",
    "                self.sample_images(epoch)\n",
    "\n",
    "                \n",
    "    def sample_images(self, epoch):\n",
    "        \n",
    "   \n",
    "        SAMPLE_SIZE = 100000\n",
    "        # -- noise for the prediction\n",
    "        noise = np.random.normal(0, 1, (SAMPLE_SIZE, 100))\n",
    "\n",
    "        # -- true detector is a 2d array, first is events, second is the label\n",
    "        true_detector = detector[0:SAMPLE_SIZE, 0]\n",
    "        true_label    = detector[0:SAMPLE_SIZE, 1] \n",
    "\n",
    "        # -- true vertex data, normal distribution\n",
    "        true_vertex   = vertex[0:SAMPLE_SIZE]\n",
    "\n",
    "        # -- gan will return an array of three dimentions: vertex-level, detector-level, and label\n",
    "        results = self.generator.predict([true_vertex, noise])\n",
    "        \n",
    "        \n",
    "        # -- fliter data based on label\n",
    "        label_filter = np.where(results[:,2] > 0.5)\n",
    "        plt.hist(true_detector[true_detector!=0], bins = 100, color = 'black', label = 'detector toy 1', histtype='step')\n",
    "        plt.hist(results[:,1][label_filter], histtype='step', bins = 100, color = 'red', label = 'GAN')\n",
    "        plt.legend()\n",
    "        plt.show()\n",
    "\n",
    "        plt.hist(true_label, bins = 10, color = 'black', label = 'True', histtype='step')\n",
    "        plt.hist(results[:,2], histtype='step', bins = 10, color = 'red', label = 'GAN')\n",
    "        plt.legend()\n",
    "        plt.show()\n",
    "        \n",
    "        \n",
    "        # -- create a uniform distribution for the testing\n",
    "        uniform = np.random.uniform(low = -1, high= 1, size = (SAMPLE_SIZE, 1))\n",
    "        noise = np.random.normal(0, 1, [SAMPLE_SIZE, 100])\n",
    "        results = gan.generator.predict([uniform, noise])\n",
    "\n",
    "        # -- plot the uniform distribution\n",
    "        plt.hist(uniform, bins = 100, color = 'lightblue', label = 'vertex toy 2')\n",
    "        plt.hist(results[:,0], histtype='step', bins=100, color = 'red', label = 'GAN')\n",
    "        plt.legend(['vertex toy 2', 'GAN'])\n",
    "        plt.show()\n",
    "\n",
    "        # -- plot detector level from GAN and filter based on label\n",
    "        label_filter = np.where(results[:,2] > 0.5)\n",
    "        plt.hist(uniform, bins = 100, color = 'lightblue', label = 'True')\n",
    "        plt.hist(results[:,1][label_filter], histtype='step', bins = 100, color = 'red', label = 'GAN')\n",
    "        plt.legend(loc = 'lower left')\n",
    "        plt.show()"
   ]
  },
  {
   "cell_type": "code",
   "execution_count": 24,
   "metadata": {},
   "outputs": [
    {
     "name": "stdout",
     "output_type": "stream",
     "text": [
      "_________________________________________________________________\n",
      "Layer (type)                 Output Shape              Param #   \n",
      "=================================================================\n",
      "input_6 (InputLayer)         (None, 3)                 0         \n",
      "_________________________________________________________________\n",
      "dense_9 (Dense)              (None, 512)               2048      \n",
      "_________________________________________________________________\n",
      "leaky_re_lu_6 (LeakyReLU)    (None, 512)               0         \n",
      "_________________________________________________________________\n",
      "dropout_3 (Dropout)          (None, 512)               0         \n",
      "_________________________________________________________________\n",
      "dense_10 (Dense)             (None, 256)               131328    \n",
      "_________________________________________________________________\n",
      "leaky_re_lu_7 (LeakyReLU)    (None, 256)               0         \n",
      "_________________________________________________________________\n",
      "dropout_4 (Dropout)          (None, 256)               0         \n",
      "_________________________________________________________________\n",
      "dense_11 (Dense)             (None, 1)                 257       \n",
      "=================================================================\n",
      "Total params: 133,633\n",
      "Trainable params: 133,633\n",
      "Non-trainable params: 0\n",
      "_________________________________________________________________\n",
      "__________________________________________________________________________________________________\n",
      "Layer (type)                    Output Shape         Param #     Connected to                     \n",
      "==================================================================================================\n",
      "input_7 (InputLayer)            (None, 1)            0                                            \n",
      "__________________________________________________________________________________________________\n",
      "input_8 (InputLayer)            (None, 100)          0                                            \n",
      "__________________________________________________________________________________________________\n",
      "concatenate_4 (Concatenate)     (None, 101)          0           input_7[0][0]                    \n",
      "                                                                 input_8[0][0]                    \n",
      "__________________________________________________________________________________________________\n",
      "dense_12 (Dense)                (None, 256)          26112       concatenate_4[0][0]              \n",
      "__________________________________________________________________________________________________\n",
      "leaky_re_lu_8 (LeakyReLU)       (None, 256)          0           dense_12[0][0]                   \n",
      "__________________________________________________________________________________________________\n",
      "batch_normalization_4 (BatchNor (None, 256)          1024        leaky_re_lu_8[0][0]              \n",
      "__________________________________________________________________________________________________\n",
      "dense_13 (Dense)                (None, 512)          131584      batch_normalization_4[0][0]      \n",
      "__________________________________________________________________________________________________\n",
      "leaky_re_lu_9 (LeakyReLU)       (None, 512)          0           dense_13[0][0]                   \n",
      "__________________________________________________________________________________________________\n",
      "batch_normalization_5 (BatchNor (None, 512)          2048        leaky_re_lu_9[0][0]              \n",
      "__________________________________________________________________________________________________\n",
      "dense_14 (Dense)                (None, 1024)         525312      batch_normalization_5[0][0]      \n",
      "__________________________________________________________________________________________________\n",
      "leaky_re_lu_10 (LeakyReLU)      (None, 1024)         0           dense_14[0][0]                   \n",
      "__________________________________________________________________________________________________\n",
      "batch_normalization_6 (BatchNor (None, 1024)         4096        leaky_re_lu_10[0][0]             \n",
      "__________________________________________________________________________________________________\n",
      "dense_15 (Dense)                (None, 1)            1025        batch_normalization_6[0][0]      \n",
      "__________________________________________________________________________________________________\n",
      "dense_16 (Dense)                (None, 1)            1025        batch_normalization_6[0][0]      \n",
      "__________________________________________________________________________________________________\n",
      "concatenate_5 (Concatenate)     (None, 2)            0           dense_15[0][0]                   \n",
      "                                                                 dense_16[0][0]                   \n",
      "__________________________________________________________________________________________________\n",
      "lambda_2 (Lambda)               (None, 1)            0           concatenate_5[0][0]              \n",
      "__________________________________________________________________________________________________\n",
      "concatenate_6 (Concatenate)     (None, 3)            0           input_7[0][0]                    \n",
      "                                                                 lambda_2[0][0]                   \n",
      "                                                                 dense_16[0][0]                   \n",
      "==================================================================================================\n",
      "Total params: 692,226\n",
      "Trainable params: 688,642\n",
      "Non-trainable params: 3,584\n",
      "__________________________________________________________________________________________________\n"
     ]
    }
   ],
   "source": [
    "gan = LSGAN()"
   ]
  },
  {
   "cell_type": "code",
   "execution_count": 27,
   "metadata": {},
   "outputs": [],
   "source": [
    "gan.train(epochs=30000, batch_size=1024, sample_interval=1000)"
   ]
  },
  {
   "cell_type": "code",
   "execution_count": 10,
   "metadata": {},
   "outputs": [],
   "source": [
    "# gan.generator.load_weights('ls_generator_unfolding_toy.h5')"
   ]
  },
  {
   "cell_type": "code",
   "execution_count": 15,
   "metadata": {},
   "outputs": [],
   "source": [
    "SAMPLE_SIZE = 100000\n",
    "# -- noise for the prediction\n",
    "noise = np.random.normal(0, 1, (SAMPLE_SIZE, 100))\n",
    "\n",
    "# -- true detector is a 2d array, first is events, second is the label\n",
    "true_detector = detector[0:SAMPLE_SIZE, 0]\n",
    "true_label    = detector[0:SAMPLE_SIZE, 1] \n",
    "\n",
    "# -- true vertex data, normal distribution\n",
    "true_vertex   = vertex[0:SAMPLE_SIZE]\n",
    "\n",
    "# -- gan will return an array of three dimentions: vertex-level, detector-level, and label\n",
    "results = gan.generator.predict([true_vertex, noise])"
   ]
  },
  {
   "cell_type": "code",
   "execution_count": 17,
   "metadata": {},
   "outputs": [
    {
     "data": {
      "image/png": "[encoded data removed]",
      "text/plain": [
       "<Figure size 432x288 with 1 Axes>"
      ]
     },
     "metadata": {},
     "output_type": "display_data"
    },
    {
     "data": {
      "image/png": "[encoded data removed]",
      "text/plain": [
       "<Figure size 432x288 with 1 Axes>"
      ]
     },
     "metadata": {},
     "output_type": "display_data"
    }
   ],
   "source": [
    "# -- fliter data based on label\n",
    "label_filter = np.where(results[:,2] > 0.5)\n",
    "plt.hist(true_detector[true_detector!=0], bins = 100, color = 'black', label = 'detector toy 1', histtype='step')\n",
    "plt.hist(results[:,1][label_filter], histtype='step', bins = 100, color = 'red', label = 'GAN')\n",
    "plt.legend()\n",
    "plt.show()\n",
    "\n",
    "plt.hist(true_label, bins = 10, color = 'black', label = 'True', histtype='step')\n",
    "plt.hist(results[:,2], histtype='step', bins = 10, color = 'red', label = 'GAN')\n",
    "plt.legend()\n",
    "plt.show()"
   ]
  },
  {
   "cell_type": "code",
   "execution_count": 22,
   "metadata": {},
   "outputs": [
    {
     "data": {
      "image/png": "[encoded data removed]",
      "text/plain": [
       "<Figure size 432x288 with 1 Axes>"
      ]
     },
     "metadata": {},
     "output_type": "display_data"
    },
    {
     "data": {
      "image/png": "[encoded data removed]",
      "text/plain": [
       "<Figure size 432x288 with 1 Axes>"
      ]
     },
     "metadata": {},
     "output_type": "display_data"
    }
   ],
   "source": [
    "# -- create a uniform distribution for the testing\n",
    "uniform = np.random.uniform(low = -1, high= 1, size = (SAMPLE_SIZE, 1))\n",
    "noise = np.random.normal(0, 1, [SAMPLE_SIZE, 100])\n",
    "results = gan.generator.predict([uniform, noise])\n",
    "\n",
    "# -- plot the uniform distribution\n",
    "plt.hist(uniform, bins = 100, color = 'lightblue', label = 'vertex toy 2')\n",
    "plt.hist(results[:,0], histtype='step', bins=100, color = 'red', label = 'GAN')\n",
    "plt.legend(['vertex toy 2', 'GAN'])\n",
    "plt.show()\n",
    "\n",
    "# -- plot detector level from GAN and filter based on label\n",
    "label_filter = np.where(results[:,2] > 0.5)\n",
    "plt.hist(uniform, bins = 100, color = 'lightblue', label = 'True')\n",
    "plt.hist(results[:,1][label_filter], histtype='step', bins = 100, color = 'red', label = 'GAN')\n",
    "plt.legend(loc = 'lower left')\n",
    "plt.show()"
   ]
  },
  {
   "cell_type": "code",
   "execution_count": null,
   "metadata": {},
   "outputs": [],
   "source": [
    "# # #save the weights\n",
    "# gan.generator.save_weights('ls_generator_unfolding_toy.h5')\n",
    "# gan.discriminator.save_weights('ls_discriminator_unfolding_toy.h5')"
   ]
  }
 ],
 "metadata": {
  "kernelspec": {
   "display_name": "Python 3",
   "language": "python",
   "name": "python3"
  },
  "language_info": {
   "codemirror_mode": {
    "name": "ipython",
    "version": 3
   },
   "file_extension": ".py",
   "mimetype": "text/x-python",
   "name": "python",
   "nbconvert_exporter": "python",
   "pygments_lexer": "ipython3",
   "version": "3.5.2"
  }
 },
 "nbformat": 4,
 "nbformat_minor": 2
}
