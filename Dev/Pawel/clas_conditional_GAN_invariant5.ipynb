{
 "cells": [
  {
   "cell_type": "code",
   "execution_count": 53,
   "metadata": {},
   "outputs": [],
   "source": [
    "import numpy as np\n",
    "from keras.models import Model, Sequential, model_from_json\n",
    "from keras.layers import Input, Dense, Reshape, Flatten, Dropout, ActivityRegularization, Lambda, Concatenate, Permute, Convolution1D, MaxPooling1D, AveragePooling1D, GlobalAveragePooling1D\n",
    "from keras.layers.merge import _Merge, concatenate\n",
    "from keras.layers.normalization import BatchNormalization\n",
    "from keras.layers.advanced_activations import LeakyReLU\n",
    "from keras.optimizers import Adam\n",
    "from keras.datasets import mnist\n",
    "from keras import backend as K\n",
    "from keras import regularizers\n",
    "from functools import partial\n",
    "import matplotlib.pyplot as plt\n",
    "from matplotlib import colors as mcol\n",
    "\n",
    "import pylab as py\n",
    "# from tools import load, save, checkdir\n",
    "import pandas as pd\n",
    "from matplotlib.lines import Line2D"
   ]
  },
  {
   "cell_type": "code",
   "execution_count": 54,
   "metadata": {},
   "outputs": [],
   "source": [
    "import os\n",
    "os.environ[\"CUDA_VISIBLE_DEVICES\"]=\"1\"\n",
    "imagedir = './'"
   ]
  },
  {
   "cell_type": "code",
   "execution_count": 55,
   "metadata": {},
   "outputs": [],
   "source": [
    "def dot(A,B):\n",
    "    return A[0]*B[0] - A[1]*B[1] - A[2]*B[2] - A[3]*B[3]"
   ]
  },
  {
   "cell_type": "code",
   "execution_count": 56,
   "metadata": {},
   "outputs": [],
   "source": [
    "def gamma_dist_rand(N):\n",
    "    y = np.random.choice(np.arange(0, 10000), size = N, p = gamma_hist)\n",
    "    y = gamma_min + (y + np.random.uniform(0, 1, N))*(gamma_max - gamma_min)/10000\n",
    "    \n",
    "    return(y)"
   ]
  },
  {
   "cell_type": "code",
   "execution_count": 57,
   "metadata": {},
   "outputs": [],
   "source": [
    "pmass = 0.93827\n",
    "pipmass = 0.1395\n",
    "pimmass = 0.1395"
   ]
  },
  {
   "cell_type": "code",
   "execution_count": 58,
   "metadata": {},
   "outputs": [],
   "source": [
    "epsilon = 0.001"
   ]
  },
  {
   "cell_type": "code",
   "execution_count": 59,
   "metadata": {},
   "outputs": [],
   "source": [
    "datapath = \"../../evts-clas.npy\"\n",
    "events = np.load(datapath)"
   ]
  },
  {
   "cell_type": "code",
   "execution_count": 60,
   "metadata": {},
   "outputs": [],
   "source": [
    "px = events[:, 2]\n",
    "py = events[:, 5]\n",
    "ptheta = np.arctan2(py, px)\n",
    "ptheta = ptheta.reshape(-1, 1)\n",
    "\n",
    "pipx = events[:, 3]\n",
    "pipy = events[:, 6]\n",
    "piptheta = np.arctan2(pipy, pipx)\n",
    "piptheta = piptheta.reshape(-1, 1)\n",
    "\n",
    "theta = np.concatenate([ptheta, piptheta], axis=1)\n",
    "theta = np.floor(theta/np.pi*180+205)%60\n",
    "\n",
    "index = np.where((theta[:, 0]<=50)&(theta[:, 1]<=50))\n",
    "\n",
    "events = events[index]"
   ]
  },
  {
   "cell_type": "code",
   "execution_count": 61,
   "metadata": {},
   "outputs": [
    {
     "data": {
      "text/plain": [
       "(2507253, 14)"
      ]
     },
     "execution_count": 61,
     "metadata": {},
     "output_type": "execute_result"
    }
   ],
   "source": [
    "events.shape"
   ]
  },
  {
   "cell_type": "code",
   "execution_count": 62,
   "metadata": {},
   "outputs": [],
   "source": [
    "M2pi = events[:, 0]\n",
    "gamma = events[:, 1]\n",
    "px = events[:, 2]\n",
    "py = events[:, 5]\n",
    "pz = events[:, 8]\n",
    "pe = events[:, 11]\n",
    "pipx = events[:, 3]\n",
    "pipy = events[:, 6]\n",
    "pipz = events[:, 9]\n",
    "pipe = events[:, 12]\n",
    "pimx = events[:, 4]\n",
    "pimy = events[:, 7]\n",
    "pimz = events[:, 10]\n",
    "# pime = events[:, 13]\n",
    "\n",
    "pt = np.sqrt(px*px + py*py)\n",
    "pzt = pz/(pt+epsilon)\n",
    "pipt = np.sqrt(pipx*pipx + pipy*pipy)\n",
    "pipzt = pipz/(pipt+epsilon)\n",
    "pimt = np.sqrt(pimx*pimx + pimy*pimy)\n",
    "pimzt = pimz/(pimt+epsilon)\n",
    "\n",
    "pipphi = np.arctan2( pipy , pipx )\n",
    "pipphi = np.where(pipphi < 0, pipphi + 2 * np.pi, pipphi)\n",
    "\n",
    "pime = gamma + pmass - pe - pipe\n",
    "p = np.stack([pe, px, py, pz], axis=1)\n",
    "pip = np.stack([pipe, pipx, pipy, pipz], axis=1)\n",
    "pim = np.stack([pime, pimx, pimy, pimz], axis=1)\n",
    "ppip = p*pip\n",
    "ppim = p*pim\n",
    "pippim = pip*pim"
   ]
  },
  {
   "cell_type": "code",
   "execution_count": 63,
   "metadata": {},
   "outputs": [],
   "source": [
    "s  = 2*gamma*pmass + pmass*pmass\n",
    "s1 = (pipe+pime)*(pipe+pime)-(pipx+pimx)*(pipx+pimx)-(pipy+pimy)*(pipy+pimy)-(pipz+pimz)*(pipz+pimz)\n",
    "s2 = (pe+pime)*(pe+pime)-(px+pimx)*(px+pimx)-(py+pimy)*(py+pimy)-(pz+pimz)*(pz+pimz)\n",
    "\n",
    "t1   = (pmass - pipe)*(pmass - pipe) - pipx * pipx - pipy * pipy - pipz * pipz\n",
    "m2pi = pime * pime - pimx * pimx - pimy * pimy - pimz * pimz\n",
    "mpx2 = (gamma + pmass - pe)*(gamma + pmass - pe) - px * px - py * py - (gamma - pz) * (gamma - pz)\n",
    "mmpm2pi = mpx2 * m2pi"
   ]
  },
  {
   "cell_type": "code",
   "execution_count": 64,
   "metadata": {},
   "outputs": [],
   "source": [
    "# Lorentz boost parameters\n",
    "v0 = gamma + pmass\n",
    "v3 = gamma\n",
    "\n",
    "v0prime = np.sqrt( v0*v0 - v3*v3 )\n",
    "\n",
    "cL = v0/v0prime\n",
    "sL = -v3/v0prime\n",
    "\n",
    "pzcms = sL * pe + cL * pz\n",
    "pipzcms = sL * pipe + cL * pipz\n",
    "pimzcms = sL * pime + cL * pimz"
   ]
  },
  {
   "cell_type": "code",
   "execution_count": 65,
   "metadata": {},
   "outputs": [],
   "source": [
    "n1 = 1 / np.sqrt( px*px + py*py + pzcms*pzcms )\n",
    "upp = np.stack([px*n1, py*n1, pzcms*n1], axis=1)\n",
    "\n",
    "n2 = 1 / np.sqrt( pipx*pipx + pipy*pipy + pipzcms*pipzcms )\n",
    "upip = np.stack([pipx*n2, pipy*n2, pipzcms*n2], axis=1)\n",
    "\n",
    "n3 = 1 / np.sqrt( pimx*pimx + pimy*pimy + pimzcms*pimzcms )\n",
    "upim = np.stack([pimx*n3, pimy*n3, pimzcms*n3], axis=1)"
   ]
  },
  {
   "cell_type": "code",
   "execution_count": 66,
   "metadata": {},
   "outputs": [],
   "source": [
    "nz0 = np.array( [ np.zeros( np.shape( upip )[0] ),\n",
    "       np.zeros( np.shape( upip )[0] ),\n",
    "       -np.ones( np.shape( upip )[0] ) ] )\n",
    "\n",
    "nz = nz0.T\n",
    "nz_dot_u1 = nz[:,0]*upip[:,0] + nz[:,1]*upip[:,1] + nz[:,2]*upip[:,2]\n",
    "u2_dot_u1 = upim[:,0]*upip[:,0] + upim[:,1]*upip[:,1] + upim[:,2]*upip[:,2]"
   ]
  },
  {
   "cell_type": "code",
   "execution_count": 67,
   "metadata": {},
   "outputs": [],
   "source": [
    "#alpha[pi+p'][pi-p] calc\n",
    "\n",
    "ag1 = 1/np.sqrt( 1 - nz_dot_u1*nz_dot_u1 )\n",
    "ag = np.array( [ag1] * 3 ).T\n",
    "bg1 = - nz_dot_u1 * ag1\n",
    "bg = np.array( [bg1] * 3 ).T\n",
    "ugamma = ag * nz + bg * upip"
   ]
  },
  {
   "cell_type": "code",
   "execution_count": 68,
   "metadata": {},
   "outputs": [],
   "source": [
    "ab1 = 1/np.sqrt( 1 - u2_dot_u1*u2_dot_u1 )\n",
    "ab = np.array( [ab1] * 3 ).T\n",
    "bb1 = - u2_dot_u1 * ab1\n",
    "bb = np.array( [bb1] * 3 ).T\n",
    "ubeta = ab * upim + bb * upip\n",
    "\n",
    "delta = np.array( [ ugamma[:,1] * ubeta[:,2] - ugamma[:,2] * ubeta[:,1],\n",
    "                   ugamma[:,2] * ubeta[:,0] - ugamma[:,0] * ubeta[:,2],\n",
    "                   ugamma[:,0] * ubeta[:,1] - ugamma[:,1] * ubeta[:,0] ] ).T\n",
    "\n",
    "n4 = 1 / np.sqrt( delta[:,0]*delta[:,0] + delta[:,1]*delta[:,1] + delta[:,2]*delta[:,2] )\n",
    "udelta = np.stack( [ delta[:,0]*n4, delta[:,1]*n4, delta[:,2]*n4 ] )"
   ]
  },
  {
   "cell_type": "code",
   "execution_count": 69,
   "metadata": {},
   "outputs": [],
   "source": [
    "cosine = ugamma[:,0]*ubeta[:,0] + ugamma[:,1]*ubeta[:,1] + ugamma[:,2]*ubeta[:,2]\n",
    "colinearity = upip[:,0]*udelta[0,:] + upip[:,1]*udelta[1,:] + upip[:,2]*udelta[2,:]\n",
    "\n",
    "alpha = np.where(colinearity > 0.999999, np.arccos( cosine ) * 180 / np.pi,\n",
    "                  ( 2 * np.pi - np.arccos( cosine ) ) * 180 / np.pi )"
   ]
  },
  {
   "cell_type": "code",
   "execution_count": 70,
   "metadata": {},
   "outputs": [],
   "source": [
    "phialpha = pipphi * alpha"
   ]
  },
  {
   "cell_type": "code",
   "execution_count": 71,
   "metadata": {},
   "outputs": [],
   "source": [
    "gamma_dist = s\n",
    "gamma_min = np.min(gamma_dist)\n",
    "gamma_max = np.max(gamma_dist)\n",
    "[gamma_hist, gamma_edges] = np.histogram(gamma_dist, bins = 10000, range=[gamma_min, gamma_max])"
   ]
  },
  {
   "cell_type": "code",
   "execution_count": 72,
   "metadata": {},
   "outputs": [
    {
     "data": {
      "text/plain": [
       "6.512070253506"
      ]
     },
     "execution_count": 72,
     "metadata": {},
     "output_type": "execute_result"
    }
   ],
   "source": [
    "gamma_min"
   ]
  },
  {
   "cell_type": "code",
   "execution_count": 73,
   "metadata": {},
   "outputs": [
    {
     "data": {
      "text/plain": [
       "8.080279156224"
      ]
     },
     "execution_count": 73,
     "metadata": {},
     "output_type": "execute_result"
    }
   ],
   "source": [
    "gamma_max"
   ]
  },
  {
   "cell_type": "code",
   "execution_count": 74,
   "metadata": {},
   "outputs": [],
   "source": [
    "gamma_hist = gamma_hist/gamma_dist.shape[0]\n",
    "np.save('gamma_hist.npy', gamma_hist)"
   ]
  },
  {
   "cell_type": "code",
   "execution_count": 75,
   "metadata": {},
   "outputs": [],
   "source": [
    "clas_origin = np.stack([ s, s1, s2, t1, pipphi, alpha, m2pi, mpx2, mmpm2pi, phialpha ], axis = 1)"
   ]
  },
  {
   "cell_type": "code",
   "execution_count": 76,
   "metadata": {},
   "outputs": [],
   "source": [
    "index = np.where(clas_origin[:, 6]>-0.15)\n",
    "clas_cut = clas_origin[index]\n",
    "MMP_cut = mpx2[index]"
   ]
  },
  {
   "cell_type": "code",
   "execution_count": 77,
   "metadata": {},
   "outputs": [],
   "source": [
    "# normalization\n",
    "clasmean = np.mean(clas_origin, axis = 0)\n",
    "classtd = np.std(clas_origin, axis = 0)\n",
    "clas = (clas_origin - clasmean)/classtd\n",
    "gfeaturesmean = clasmean[0:8]\n",
    "gfeaturesstd = classtd[0:8]\n",
    "gammamean = clasmean[0:1]\n",
    "gammastd = classtd[0:1]\n",
    "mmpm2pimean = clasmean[8:9]\n",
    "mmpm2pistd = classtd[8:9]\n",
    "phialphamean = clasmean[9:10]\n",
    "phialphastd = classtd[9:10]"
   ]
  },
  {
   "cell_type": "code",
   "execution_count": 78,
   "metadata": {},
   "outputs": [],
   "source": [
    "np.save('gfeaturesmean.npy', gfeaturesmean)\n",
    "np.save('gfeaturesstd.npy', gfeaturesstd)"
   ]
  },
  {
   "cell_type": "code",
   "execution_count": 79,
   "metadata": {},
   "outputs": [
    {
     "data": {
      "text/plain": [
       "(8,)"
      ]
     },
     "execution_count": 79,
     "metadata": {},
     "output_type": "execute_result"
    }
   ],
   "source": [
    "np.shape( gfeaturesmean )"
   ]
  },
  {
   "cell_type": "code",
   "execution_count": 80,
   "metadata": {},
   "outputs": [
    {
     "data": {
      "text/plain": [
       "(8,)"
      ]
     },
     "execution_count": 80,
     "metadata": {},
     "output_type": "execute_result"
    }
   ],
   "source": [
    "np.shape( gfeaturesstd )"
   ]
  },
  {
   "cell_type": "code",
   "execution_count": 81,
   "metadata": {},
   "outputs": [
    {
     "data": {
      "text/plain": [
       "(2507253, 10)"
      ]
     },
     "execution_count": 81,
     "metadata": {},
     "output_type": "execute_result"
    }
   ],
   "source": [
    "np.shape( clas )"
   ]
  },
  {
   "cell_type": "code",
   "execution_count": 82,
   "metadata": {},
   "outputs": [],
   "source": [
    "HALF_BATCH = 12000\n",
    "BATCH_SIZE = HALF_BATCH * 2\n",
    "# The training ratio is the number of discriminator updates\n",
    "# per generator update. The paper uses 5.\n",
    "TRAINING_RATIO = 5\n",
    "GRADIENT_PENALTY_WEIGHT = 10  # As per the paper"
   ]
  },
  {
   "cell_type": "code",
   "execution_count": 83,
   "metadata": {},
   "outputs": [],
   "source": [
    "def MMD_loss(x, y):\n",
    "    sigma = 0.1\n",
    "    x1 = x[:HALF_BATCH, :]\n",
    "    x2 = x[HALF_BATCH:, :]\n",
    "    y1 = y[:HALF_BATCH, :]\n",
    "    y2 = y[HALF_BATCH:, :]\n",
    "#     x1_x2 = K.sum(K.exp(-(x1-x2)*(x1-x2)/sigma))/HALF_BATCH\n",
    "#     y1_y2 = K.sum(K.exp(-(y1-y2)*(y1-y2)/sigma))/HALF_BATCH\n",
    "#     x_y = K.sum(K.exp(-(x-y)*(x-y)/sigma))/BATCH_SIZE\n",
    "    \n",
    "    x1_x2 = K.sum(K.exp(sigma/((x1-x2)*(x1-x2)+sigma)))/HALF_BATCH\n",
    "    y1_y2 = K.sum(K.exp(sigma/((y1-y2)*(y1-y2)+sigma)))/HALF_BATCH\n",
    "    x_y = K.sum(K.exp(sigma/((x-y)*(x-y)+sigma)))/BATCH_SIZE\n",
    "    \n",
    "    return (x1_x2 + y1_y2 - 2*x_y)*(x1_x2 + y1_y2 - 2*x_y)"
   ]
  },
  {
   "cell_type": "code",
   "execution_count": 84,
   "metadata": {},
   "outputs": [],
   "source": [
    "def wasserstein_loss(y_true, y_pred):\n",
    "    \"\"\"Calculates the Wasserstein loss for a sample batch.\n",
    "    The Wasserstein loss function is very simple to calculate. In a standard GAN, the\n",
    "    discriminator has a sigmoid output, representing the probability that samples are\n",
    "    real or generated. In Wasserstein GANs, however, the output is linear with no\n",
    "    activation function! Instead of being constrained to [0, 1], the discriminator wants\n",
    "    to make the distance between its output for real and generated samples as\n",
    "    large as possible.\n",
    "    The most natural way to achieve this is to label generated samples -1 and real\n",
    "    samples 1, instead of the 0 and 1 used in normal GANs, so that multiplying the\n",
    "    outputs by the labels will give you the loss immediately.\n",
    "    Note that the nature of this loss means that it can be (and frequently will be)\n",
    "    less than 0.\"\"\"\n",
    "    return K.mean(y_true * y_pred)"
   ]
  },
  {
   "cell_type": "code",
   "execution_count": 85,
   "metadata": {},
   "outputs": [],
   "source": [
    "def gradient_penalty_loss(y_true, y_pred, averaged_samples,\n",
    "                          gradient_penalty_weight):\n",
    "    \"\"\"Calculates the gradient penalty loss for a batch of \"averaged\" samples.\n",
    "    In Improved WGANs, the 1-Lipschitz constraint is enforced by adding a term to the\n",
    "    loss function that penalizes the network if the gradient norm moves away from 1.\n",
    "    However, it is impossible to evaluate this function at all points in the input\n",
    "    space. The compromise used in the paper is to choose random points on the lines\n",
    "    between real and generated samples, and check the gradients at these points. Note\n",
    "    that it is the gradient w.r.t. the input averaged samples, not the weights of the\n",
    "    discriminator, that we're penalizing!\n",
    "    In order to evaluate the gradients, we must first run samples through the generator\n",
    "    and evaluate the loss. Then we get the gradients of the discriminator w.r.t. the\n",
    "    input averaged samples. The l2 norm and penalty can then be calculated for this\n",
    "    gradient.\n",
    "    Note that this loss function requires the original averaged samples as input, but\n",
    "    Keras only supports passing y_true and y_pred to loss functions. To get around this,\n",
    "    we make a partial() of the function with the averaged_samples argument, and use that\n",
    "    for model training.\"\"\"\n",
    "    # first get the gradients:\n",
    "    #   assuming: - that y_pred has dimensions (batch_size, 1)\n",
    "    #             - averaged_samples has dimensions (batch_size, nbr_features)\n",
    "    # gradients afterwards has dimension (batch_size, nbr_features), basically\n",
    "    # a list of nbr_features-dimensional gradient vectors\n",
    "    gradients = K.gradients(y_pred, averaged_samples)[0]\n",
    "    # compute the euclidean norm by squaring ...\n",
    "    gradients_sqr = K.square(gradients)\n",
    "    #   ... summing over the rows ...\n",
    "    gradients_sqr_sum = K.sum(gradients_sqr,\n",
    "                              axis=np.arange(1, len(gradients_sqr.shape)))\n",
    "    #   ... and sqrt\n",
    "    gradient_l2_norm = K.sqrt(gradients_sqr_sum)\n",
    "    # compute lambda * (1 - ||grad||)^2 still for each single sample\n",
    "    gradient_penalty = gradient_penalty_weight * K.square(1 - gradient_l2_norm)\n",
    "    # return the mean as loss over all the batch samples\n",
    "    return K.mean(gradient_penalty)"
   ]
  },
  {
   "cell_type": "code",
   "execution_count": 86,
   "metadata": {},
   "outputs": [],
   "source": [
    "class RandomWeightedAverage(_Merge):\n",
    "    \"\"\"Takes a randomly-weighted average of two tensors. In geometric terms, this\n",
    "    outputs a random point on the line between each pair of input points.\n",
    "    Inheriting from _Merge is a little messy but it was the quickest solution I could\n",
    "    think of. Improvements appreciated.\"\"\"\n",
    "\n",
    "    def _merge_function(self, inputs):\n",
    "        weights = K.random_uniform((BATCH_SIZE, 1))\n",
    "        return (weights * inputs[0]) + ((1 - weights) * inputs[1])"
   ]
  },
  {
   "cell_type": "code",
   "execution_count": 87,
   "metadata": {},
   "outputs": [],
   "source": [
    "featuresmean = K.constant(gfeaturesmean)\n",
    "featuresstd = K.constant(gfeaturesstd)"
   ]
  },
  {
   "cell_type": "code",
   "execution_count": 88,
   "metadata": {},
   "outputs": [
    {
     "data": {
      "text/plain": [
       "(8,)"
      ]
     },
     "execution_count": 88,
     "metadata": {},
     "output_type": "execute_result"
    }
   ],
   "source": [
    "np.shape(gfeaturesmean)"
   ]
  },
  {
   "cell_type": "code",
   "execution_count": 89,
   "metadata": {},
   "outputs": [
    {
     "data": {
      "text/plain": [
       "(8,)"
      ]
     },
     "execution_count": 89,
     "metadata": {},
     "output_type": "execute_result"
    }
   ],
   "source": [
    "np.shape(gfeaturesstd)"
   ]
  },
  {
   "cell_type": "code",
   "execution_count": 90,
   "metadata": {},
   "outputs": [],
   "source": [
    "def feature_mul(x):\n",
    "    featuresmean = K.constant(gfeaturesmean)\n",
    "    featuresstd = K.constant(gfeaturesstd)\n",
    "    \n",
    "    xyz = x*featuresstd+featuresmean\n",
    "    pipphi = xyz[:, 4:5]\n",
    "    alpha = xyz[:, 5:6]\n",
    "    m2pi = xyz[:, 6:7]\n",
    "    mpx2 = xyz[:, 7:8]\n",
    "    \n",
    "    phialpha = pipphi * alpha\n",
    "    phialpha = (phialpha - K.constant(phialphamean))/K.constant(phialphastd)\n",
    "    mmpm2pi = mpx2 * m2pi\n",
    "    mmpm2pi = (mmpm2pi - K.constant(mmpm2pimean))/K.constant(mmpm2pistd)\n",
    "    \n",
    "    return K.concatenate([phialpha, mmpm2pi])"
   ]
  },
  {
   "cell_type": "code",
   "execution_count": 91,
   "metadata": {},
   "outputs": [],
   "source": [
    "def make_generator():\n",
    "    gamma = Input(shape=(1,))\n",
    "    noise = Input(shape=(100,))\n",
    "    visible = concatenate([gamma, noise])\n",
    "    hidden1 = Dense(512)(visible)\n",
    "    LR = LeakyReLU(alpha=0.2)(hidden1)\n",
    "    hidden2 = Dense(512)(LR)\n",
    "    LR = LeakyReLU(alpha=0.2)(hidden2)\n",
    "    hidden3 = Dense(512)(LR)\n",
    "    LR = LeakyReLU(alpha=0.2)(hidden3)\n",
    "    hidden4 = Dense(512)(LR)\n",
    "    LR = LeakyReLU(alpha=0.2)(hidden4)\n",
    "    hidden5 = Dense(512)(LR)\n",
    "    LR = LeakyReLU(alpha=0.2)(hidden5)\n",
    "    hidden6 = Dense(512)(LR)\n",
    "    LR = LeakyReLU(alpha=0.2)(hidden6)\n",
    "    hidden7 = Dense(512)(LR)\n",
    "    LR = LeakyReLU(alpha=0.2)(hidden7)\n",
    "    hidden8 = Dense(512)(LR)\n",
    "    LR = LeakyReLU(alpha=0.2)(hidden8)\n",
    "     \n",
    "    output = Dense(7)(LR)\n",
    "    output2 = concatenate([gamma, output])\n",
    "    features = Lambda(feature_mul)(output2)\n",
    "\n",
    "    outputmerge = concatenate([output2, features])\n",
    "    \n",
    "    generator = Model(inputs=[gamma, noise], outputs=[outputmerge])\n",
    "    return(generator)"
   ]
  },
  {
   "cell_type": "code",
   "execution_count": 92,
   "metadata": {},
   "outputs": [],
   "source": [
    "def make_discriminator():\n",
    "    visible = Input(shape=(clas.shape[1],))\n",
    "    hidden1 = Dense(512)(visible)\n",
    "    LR = LeakyReLU(alpha=0.2)(hidden1)\n",
    "    DR = Dropout(rate=0.1)(LR)\n",
    "    hidden2 = Dense(512)(DR)\n",
    "    LR = LeakyReLU(alpha=0.2)(hidden2)\n",
    "    DR = Dropout(rate=0.1)(LR)\n",
    "    hidden3 = Dense(512)(DR)\n",
    "    LR = LeakyReLU(alpha=0.2)(hidden3)\n",
    "    DR = Dropout(rate=0.1)(LR)\n",
    "    hidden4 = Dense(512)(DR)\n",
    "    LR = LeakyReLU(alpha=0.2)(hidden4)\n",
    "    DR = Dropout(rate=0.1)(LR)\n",
    "    hidden5 = Dense(512)(DR)\n",
    "    LR = LeakyReLU(alpha=0.2)(hidden5)\n",
    "    DR = Dropout(rate=0.1)(LR)\n",
    "    hidden6 = Dense(512)(DR)\n",
    "    LR = LeakyReLU(alpha=0.2)(hidden6)\n",
    "    DR = Dropout(rate=0.1)(LR)\n",
    "    hidden7 = Dense(512)(DR)\n",
    "    LR = LeakyReLU(alpha=0.2)(hidden7)\n",
    "    DR = Dropout(rate=0.1)(LR)\n",
    "    hidden8 = Dense(512)(DR)\n",
    "    LR = LeakyReLU(alpha=0.2)(hidden8)\n",
    "    output = Dense(1)(DR)\n",
    "\n",
    "    discriminator = Model(inputs=[visible], outputs=output)\n",
    "    return discriminator"
   ]
  },
  {
   "cell_type": "code",
   "execution_count": 93,
   "metadata": {},
   "outputs": [],
   "source": [
    "def make_MMD():\n",
    "    visible = Input(shape=(clas.shape[1],))\n",
    "    MMD = Model(inputs=visible, outputs=visible)\n",
    "    return MMD"
   ]
  },
  {
   "cell_type": "code",
   "execution_count": 94,
   "metadata": {},
   "outputs": [],
   "source": [
    "generator = make_generator()\n",
    "discriminator = make_discriminator()\n",
    "MMD = make_MMD()"
   ]
  },
  {
   "cell_type": "code",
   "execution_count": 95,
   "metadata": {},
   "outputs": [
    {
     "name": "stdout",
     "output_type": "stream",
     "text": [
      "Model: \"model_9\"\n",
      "__________________________________________________________________________________________________\n",
      "Layer (type)                    Output Shape         Param #     Connected to                     \n",
      "==================================================================================================\n",
      "input_14 (InputLayer)           (None, 1)            0                                            \n",
      "__________________________________________________________________________________________________\n",
      "input_15 (InputLayer)           (None, 100)          0                                            \n",
      "__________________________________________________________________________________________________\n",
      "model_6 (Model)                 (None, 10)           1894407     input_14[0][0]                   \n",
      "                                                                 input_15[0][0]                   \n",
      "__________________________________________________________________________________________________\n",
      "model_7 (Model)                 (None, 1)            1582081     model_6[1][0]                    \n",
      "__________________________________________________________________________________________________\n",
      "model_8 (Model)                 (None, 10)           0           model_6[1][0]                    \n",
      "==================================================================================================\n",
      "Total params: 3,476,488\n",
      "Trainable params: 1,894,407\n",
      "Non-trainable params: 1,582,081\n",
      "__________________________________________________________________________________________________\n"
     ]
    }
   ],
   "source": [
    "for layer in discriminator.layers:\n",
    "    layer.trainable = False\n",
    "discriminator.trainable = False\n",
    "\n",
    "generator_gamma = Input(shape=(1,))\n",
    "generator_noise = Input(shape=(100,))\n",
    "generator_input = generator([generator_gamma, generator_noise])\n",
    "discriminator_layers_for_generator = discriminator(generator_input)\n",
    "MMD_Layers_for_generator = MMD(generator_input)\n",
    "# generator_model = Model(inputs=generator_input,\n",
    "#                         outputs=[discriminator_layers_for_generator])\n",
    "generator_model = Model(inputs=[generator_gamma, generator_noise],\n",
    "                        outputs=[discriminator_layers_for_generator,\n",
    "                                MMD_Layers_for_generator])\n",
    "# We use the Adam paramaters from Gulrajani et al.\n",
    "generator_model.compile(optimizer=Adam(0.00001, beta_1=0.5, beta_2=0.9),\n",
    "                        loss=[wasserstein_loss,\n",
    "                              MMD_loss])\n",
    "# generator_model.compile(optimizer=Adam(0.0001, beta_1=0.5, beta_2=0.9),\n",
    "#                         loss=[wasserstein_loss])\n",
    "\n",
    "generator_model.summary()"
   ]
  },
  {
   "cell_type": "code",
   "execution_count": 96,
   "metadata": {},
   "outputs": [],
   "source": [
    "for layer in discriminator.layers:\n",
    "    layer.trainable = True\n",
    "for layer in generator.layers:\n",
    "    layer.trainable = False\n",
    "discriminator.trainable = True\n",
    "generator.trainable = False"
   ]
  },
  {
   "cell_type": "code",
   "execution_count": 97,
   "metadata": {},
   "outputs": [],
   "source": [
    "# real_samples = Input(shape=clas.shape[1:])\n",
    "# fake_samples = Input(shape=clas.shape[1:])\n",
    "# # generator_input_for_discriminator = Input(shape=(100,))\n",
    "# # generated_samples_for_discriminator = generator(generator_input_for_discriminator)\n",
    "# # discriminator_output_from_generator = discriminator(generated_samples_for_discriminator)\n",
    "# discriminator_output_from_generator = discriminator(fake_samples)\n",
    "# discriminator_output_from_real_samples = discriminator(real_samples)\n",
    "\n",
    "real_samples = Input(shape=clas.shape[1:])\n",
    "generator_gamma_for_discriminator = Input(shape = (1,))\n",
    "generator_noise_for_discriminator = Input(shape=(100,))\n",
    "generated_samples_for_discriminator = generator([generator_gamma_for_discriminator, generator_noise_for_discriminator])\n",
    "discriminator_output_from_generator = discriminator(generated_samples_for_discriminator)\n",
    "discriminator_output_from_real_samples = discriminator(real_samples)"
   ]
  },
  {
   "cell_type": "code",
   "execution_count": 98,
   "metadata": {},
   "outputs": [],
   "source": [
    "# We also need to generate weighted-averages of real and generated samples,\n",
    "# to use for the gradient norm penalty.\n",
    "averaged_samples = RandomWeightedAverage()([real_samples,\n",
    "                                            generated_samples_for_discriminator])\n",
    "# averaged_samples = RandomWeightedAverage()([real_samples,\n",
    "#                                             fake_samples])\n",
    "\n",
    "# We then run these samples through the discriminator as well. Note that we never\n",
    "# really use the discriminator output for these samples - we're only running them to\n",
    "# get the gradient norm for the gradient penalty loss.\n",
    "averaged_samples_out = discriminator(averaged_samples)"
   ]
  },
  {
   "cell_type": "code",
   "execution_count": 99,
   "metadata": {},
   "outputs": [],
   "source": [
    "# The gradient penalty loss function requires the input averaged samples to get\n",
    "# gradients. However, Keras loss functions can only have two arguments, y_true and\n",
    "# y_pred. We get around this by making a partial() of the function with the averaged\n",
    "# samples here.\n",
    "partial_gp_loss = partial(gradient_penalty_loss,\n",
    "                          averaged_samples=averaged_samples,\n",
    "                          gradient_penalty_weight=GRADIENT_PENALTY_WEIGHT)\n",
    "# Functions need names or Keras will throw an error\n",
    "partial_gp_loss.__name__ = 'gradient_penalty'"
   ]
  },
  {
   "cell_type": "code",
   "execution_count": 100,
   "metadata": {},
   "outputs": [
    {
     "name": "stdout",
     "output_type": "stream",
     "text": [
      "Model: \"model_10\"\n",
      "__________________________________________________________________________________________________\n",
      "Layer (type)                    Output Shape         Param #     Connected to                     \n",
      "==================================================================================================\n",
      "input_17 (InputLayer)           (None, 1)            0                                            \n",
      "__________________________________________________________________________________________________\n",
      "input_18 (InputLayer)           (None, 100)          0                                            \n",
      "__________________________________________________________________________________________________\n",
      "input_16 (InputLayer)           (None, 10)           0                                            \n",
      "__________________________________________________________________________________________________\n",
      "model_6 (Model)                 (None, 10)           1894407     input_17[0][0]                   \n",
      "                                                                 input_18[0][0]                   \n",
      "__________________________________________________________________________________________________\n",
      "random_weighted_average_2 (Rand (None, 10)           0           input_16[0][0]                   \n",
      "                                                                 model_6[2][0]                    \n",
      "__________________________________________________________________________________________________\n",
      "model_7 (Model)                 (None, 1)            1582081     model_6[2][0]                    \n",
      "                                                                 input_16[0][0]                   \n",
      "                                                                 random_weighted_average_2[0][0]  \n",
      "==================================================================================================\n",
      "Total params: 3,476,488\n",
      "Trainable params: 1,582,081\n",
      "Non-trainable params: 1,894,407\n",
      "__________________________________________________________________________________________________\n"
     ]
    }
   ],
   "source": [
    "# If we don't concatenate the real and generated samples, however, we get three\n",
    "# outputs: One of the generated samples, one of the real samples, and one of the\n",
    "# averaged samples, all of size BATCH_SIZE. This works neatly!\n",
    "discriminator_model = Model(inputs=[real_samples,\n",
    "                                    generator_gamma_for_discriminator, \n",
    "                                    generator_noise_for_discriminator],\n",
    "                            outputs=[discriminator_output_from_real_samples,\n",
    "                                     discriminator_output_from_generator,\n",
    "                                     averaged_samples_out])\n",
    "# discriminator_model = Model(inputs=[real_samples,\n",
    "#                                     fake_samples],\n",
    "#                             outputs=[discriminator_output_from_real_samples,\n",
    "#                                      discriminator_output_from_generator,\n",
    "#                                      averaged_samples_out])\n",
    "# We use the Adam paramaters from Gulrajani et al. We use the Wasserstein loss for both\n",
    "# the real and generated samples, and the gradient penalty loss for the averaged samples\n",
    "discriminator_model.compile(optimizer=Adam(0.00001, beta_1=0.5, beta_2=0.9),\n",
    "                            loss=[wasserstein_loss,\n",
    "                                  wasserstein_loss,\n",
    "                                  partial_gp_loss])\n",
    "discriminator_model.summary()"
   ]
  },
  {
   "cell_type": "code",
   "execution_count": 101,
   "metadata": {},
   "outputs": [],
   "source": [
    "# We make three label vectors for training. positive_y is the label vector for real\n",
    "# samples, with value 1. negative_y is the label vector for generated samples, with\n",
    "# value -1. The dummy_y vector is passed to the gradient_penalty loss function and\n",
    "# is not used.\n",
    "positive_y = np.ones((BATCH_SIZE, 1), dtype=np.float32)\n",
    "negative_y = -positive_y\n",
    "dummy_y = np.zeros((BATCH_SIZE, 1), dtype=np.float32)"
   ]
  },
  {
   "cell_type": "code",
   "execution_count": 106,
   "metadata": {},
   "outputs": [
    {
     "name": "stderr",
     "output_type": "stream",
     "text": [
      "ERROR:root:Internal Python error in the inspect module.\n",
      "Below is the traceback from this internal error.\n",
      "\n"
     ]
    },
    {
     "name": "stdout",
     "output_type": "stream",
     "text": [
      "Traceback (most recent call last):\n",
      "  File \"/home/pawel/Extras/anaconda3/envs/jlabML/lib/python3.6/site-packages/IPython/core/interactiveshell.py\", line 3331, in run_code\n",
      "    exec(code_obj, self.user_global_ns, self.user_ns)\n",
      "  File \"<ipython-input-106-981762e0f04a>\", line 2, in <module>\n",
      "    discriminator.load_weights(\"discriminatorfilter00042.h5\")\n",
      "  File \"/home/pawel/Extras/anaconda3/envs/jlabML/lib/python3.6/site-packages/keras/engine/saving.py\", line 492, in load_wrapper\n",
      "    return load_function(*args, **kwargs)\n",
      "  File \"/home/pawel/Extras/anaconda3/envs/jlabML/lib/python3.6/site-packages/keras/engine/network.py\", line 1230, in load_weights\n",
      "    f, self.layers, reshape=reshape)\n",
      "  File \"/home/pawel/Extras/anaconda3/envs/jlabML/lib/python3.6/site-packages/keras/engine/saving.py\", line 1206, in load_weights_from_hdf5_group\n",
      "    str(len(filtered_layers)) + ' layers.')\n",
      "ValueError: You are trying to load a weight file containing 9 layers into a model with 8 layers.\n",
      "\n",
      "During handling of the above exception, another exception occurred:\n",
      "\n",
      "Traceback (most recent call last):\n",
      "  File \"/home/pawel/Extras/anaconda3/envs/jlabML/lib/python3.6/site-packages/IPython/core/interactiveshell.py\", line 2044, in showtraceback\n",
      "    stb = value._render_traceback_()\n",
      "AttributeError: 'ValueError' object has no attribute '_render_traceback_'\n",
      "\n",
      "During handling of the above exception, another exception occurred:\n",
      "\n",
      "Traceback (most recent call last):\n",
      "  File \"/home/pawel/Extras/anaconda3/envs/jlabML/lib/python3.6/site-packages/IPython/core/ultratb.py\", line 1151, in get_records\n",
      "    return _fixed_getinnerframes(etb, number_of_lines_of_context, tb_offset)\n",
      "  File \"/home/pawel/Extras/anaconda3/envs/jlabML/lib/python3.6/site-packages/IPython/core/ultratb.py\", line 319, in wrapped\n",
      "    return f(*args, **kwargs)\n",
      "  File \"/home/pawel/Extras/anaconda3/envs/jlabML/lib/python3.6/site-packages/IPython/core/ultratb.py\", line 353, in _fixed_getinnerframes\n",
      "    records = fix_frame_records_filenames(inspect.getinnerframes(etb, context))\n",
      "  File \"/home/pawel/Extras/anaconda3/envs/jlabML/lib/python3.6/inspect.py\", line 1490, in getinnerframes\n",
      "    frameinfo = (tb.tb_frame,) + getframeinfo(tb, context)\n",
      "  File \"/home/pawel/Extras/anaconda3/envs/jlabML/lib/python3.6/inspect.py\", line 1448, in getframeinfo\n",
      "    filename = getsourcefile(frame) or getfile(frame)\n",
      "  File \"/home/pawel/Extras/anaconda3/envs/jlabML/lib/python3.6/inspect.py\", line 696, in getsourcefile\n",
      "    if getattr(getmodule(object, filename), '__loader__', None) is not None:\n",
      "  File \"/home/pawel/Extras/anaconda3/envs/jlabML/lib/python3.6/inspect.py\", line 733, in getmodule\n",
      "    if ismodule(module) and hasattr(module, '__file__'):\n",
      "  File \"/home/pawel/Extras/anaconda3/envs/jlabML/lib/python3.6/site-packages/tensorflow/__init__.py\", line 50, in __getattr__\n",
      "    module = self._load()\n",
      "  File \"/home/pawel/Extras/anaconda3/envs/jlabML/lib/python3.6/site-packages/tensorflow/__init__.py\", line 44, in _load\n",
      "    module = _importlib.import_module(self.__name__)\n",
      "  File \"/home/pawel/Extras/anaconda3/envs/jlabML/lib/python3.6/importlib/__init__.py\", line 126, in import_module\n",
      "    return _bootstrap._gcd_import(name[level:], package, level)\n",
      "  File \"<frozen importlib._bootstrap>\", line 994, in _gcd_import\n",
      "  File \"<frozen importlib._bootstrap>\", line 971, in _find_and_load\n",
      "  File \"<frozen importlib._bootstrap>\", line 953, in _find_and_load_unlocked\n",
      "ModuleNotFoundError: No module named 'tensorflow_core.estimator'\n"
     ]
    },
    {
     "ename": "ValueError",
     "evalue": "You are trying to load a weight file containing 9 layers into a model with 8 layers.",
     "output_type": "error",
     "traceback": [
      "\u001b[0;31m---------------------------------------------------------------------------\u001b[0m"
     ]
    }
   ],
   "source": [
    "generator.load_weights(\"generatorfilter00042.h5\")\n",
    "discriminator.load_weights(\"discriminatorfilter00042.h5\")"
   ]
  },
  {
   "cell_type": "code",
   "execution_count": 103,
   "metadata": {
    "scrolled": true
   },
   "outputs": [
    {
     "name": "stderr",
     "output_type": "stream",
     "text": [
      "/home/pawel/Extras/anaconda3/envs/jlabML/lib/python3.6/site-packages/keras/engine/training.py:297: UserWarning: Discrepancy between trainable weights and collected trainable weights, did you set `model.trainable` without calling `model.compile` after ?\n",
      "  'Discrepancy between trainable weights and collected trainable'\n",
      "/home/pawel/Extras/anaconda3/envs/jlabML/lib/python3.6/site-packages/keras/engine/training.py:297: UserWarning: Discrepancy between trainable weights and collected trainable weights, did you set `model.trainable` without calling `model.compile` after ?\n",
      "  'Discrepancy between trainable weights and collected trainable'\n"
     ]
    },
    {
     "name": "stdout",
     "output_type": "stream",
     "text": [
      "0 [[118.48295, -0.011551753, 118.4945], [118.66043, -0.018549986, 118.67898], [116.58266, -0.02674293, 116.6094], [115.62606, -0.035744246, 115.661804], [114.00092, -0.04538938, 114.04631], [114.27408, -0.05479552, 114.32887], [112.53092, -0.065684095, 112.5966], [110.564606, -0.076789, 110.641396], [110.39724, -0.08949555, 110.48673], [109.49262, -0.10190563, 109.59453], [107.04846, -0.11559067, 107.164055], [106.33332, -0.13078557, 106.4641], [105.04791, -0.14759651, 105.19551], [103.140625, -0.1648411, 103.305466], [102.28648, -0.18496561, 102.47145], [100.19921, -0.20256525, 100.40178], [99.111084, -0.2248437, 99.33593], [97.56377, -0.24869783, 97.81246], [96.45444, -0.27193075, 96.72637], [94.12766, -0.29714534, 94.424805]]\n",
      "0\n"
     ]
    },
    {
     "data": {
      "image/png": "[encoded data removed]",
      "text/plain": [
       "<Figure size 432x288 with 1 Axes>"
      ]
     },
     "metadata": {
      "needs_background": "light"
     },
     "output_type": "display_data"
    },
    {
     "data": {
      "image/png": "[encoded data removed]",
      "text/plain": [
       "<Figure size 432x288 with 1 Axes>"
      ]
     },
     "metadata": {
      "needs_background": "light"
     },
     "output_type": "display_data"
    },
    {
     "data": {
      "image/png": "[encoded data removed]",
      "text/plain": [
       "<Figure size 432x288 with 1 Axes>"
      ]
     },
     "metadata": {
      "needs_background": "light"
     },
     "output_type": "display_data"
    },
    {
     "data": {
      "image/png": "[encoded data removed]",
      "text/plain": [
       "<Figure size 432x288 with 1 Axes>"
      ]
     },
     "metadata": {
      "needs_background": "light"
     },
     "output_type": "display_data"
    },
    {
     "data": {
      "image/png": "[encoded data removed]",
      "text/plain": [
       "<Figure size 432x288 with 1 Axes>"
      ]
     },
     "metadata": {
      "needs_background": "light"
     },
     "output_type": "display_data"
    },
    {
     "data": {
      "image/png": "[encoded data removed]",
      "text/plain": [
       "<Figure size 432x288 with 1 Axes>"
      ]
     },
     "metadata": {
      "needs_background": "light"
     },
     "output_type": "display_data"
    },
    {
     "data": {
      "image/png": "[encoded data removed]",
      "text/plain": [
       "<Figure size 432x288 with 1 Axes>"
      ]
     },
     "metadata": {
      "needs_background": "light"
     },
     "output_type": "display_data"
    },
    {
     "data": {
      "image/png": "[encoded data removed]",
      "text/plain": [
       "<Figure size 432x288 with 1 Axes>"
      ]
     },
     "metadata": {
      "needs_background": "light"
     },
     "output_type": "display_data"
    },
    {
     "data": {
      "image/png": "[encoded data removed]",
      "text/plain": [
       "<Figure size 576x288 with 2 Axes>"
      ]
     },
     "metadata": {
      "needs_background": "light"
     },
     "output_type": "display_data"
    },
    {
     "data": {
      "image/png": "[encoded data removed]",
      "text/plain": [
       "<Figure size 432x288 with 1 Axes>"
      ]
     },
     "metadata": {
      "needs_background": "light"
     },
     "output_type": "display_data"
    }
   ],
   "source": [
    "for epoch in range(4100, 4101):\n",
    "       \n",
    "    np.random.shuffle(clas)\n",
    "    # print(\"Number of batches: \", int(dataset.shape[0] // BATCH_SIZE))\n",
    "    discriminator_loss = []\n",
    "    generator_loss = []\n",
    "    minibatches_size = BATCH_SIZE * TRAINING_RATIO\n",
    "    for i in range(int(clas.shape[0] // (BATCH_SIZE * TRAINING_RATIO))):\n",
    "        discriminator_minibatches = clas[i * minibatches_size:\n",
    "                                            (i + 1) * minibatches_size]\n",
    "\n",
    "        noise= np.random.normal(0, 1, [BATCH_SIZE*TRAINING_RATIO, 100])\n",
    "        s = gamma_dist_rand(BATCH_SIZE*TRAINING_RATIO)\n",
    "        s = (s - gammamean)/gammastd\n",
    "        \n",
    "        for j in range(TRAINING_RATIO):         \n",
    "            image_batch = discriminator_minibatches[j * BATCH_SIZE:\n",
    "                                                    (j + 1) * BATCH_SIZE]\n",
    "            noise_batch = noise[j * BATCH_SIZE:\n",
    "                                                    (j + 1) * BATCH_SIZE]\n",
    "            s_batch = s[j * BATCH_SIZE:\n",
    "                                                    (j + 1) * BATCH_SIZE]\n",
    "            discriminator_loss.append(discriminator_model.train_on_batch(\n",
    "                [image_batch, s_batch, noise_batch],\n",
    "                [positive_y, negative_y, dummy_y]))\n",
    "\n",
    "        noise= np.random.normal(0, 1, [BATCH_SIZE, 100])\n",
    "        s = gamma_dist_rand(BATCH_SIZE)\n",
    "        s = (s - gammamean)/gammastd\n",
    "        generator_loss.append(generator_model.train_on_batch([s, noise],\n",
    "                                                             [positive_y, image_batch]))\n",
    "        \n",
    "    print(epoch, generator_loss)\n",
    "\n",
    "    if epoch%10==0:\n",
    "        print(epoch)\n",
    "        SAMPLE_SIZE = events.shape[0]\n",
    "        noise= np.random.normal(0, 1, [SAMPLE_SIZE, 100])\n",
    "        s = gamma_dist_rand(SAMPLE_SIZE)\n",
    "        s = (s - gammamean)/gammastd\n",
    "        results = generator.predict([s, noise], batch_size = BATCH_SIZE)\n",
    "        results = results*classtd+clasmean\n",
    "        s = results[:, 0]\n",
    "        s1 = results[:, 1]\n",
    "        s2 = results[:, 2]\n",
    "        t1 = results[:, 3]\n",
    "        pipphi = results[:, 4]\n",
    "        alpha = results[:, 5]\n",
    "        m2pi = results[:,6]\n",
    "        mpx2 = results[:,7]\n",
    "        ganevents = np.stack([s, s1, s2, t1, pipphi, alpha, m2pi, mpx2], axis = 1)\n",
    "        \n",
    "        plt.hist(clas_origin[:, 0], bins=100 )#, range=[0, 10], histtype='step')\n",
    "        plt.hist(ganevents[:, 0], bins=100 )#, range=[0, 10], histtype='step')\n",
    "        plt.title(\"s\")\n",
    "        plt.show()\n",
    "        \n",
    "        plt.hist(clas_origin[:, 1], bins=100 )#, range=[-6, 0], histtype='step')\n",
    "        plt.hist(ganevents[:, 1], bins=100 )#, range=[-6, 0], histtype='step')\n",
    "        plt.title(\"s1\")\n",
    "        plt.show()\n",
    "        \n",
    "        plt.hist(clas_origin[:, 2], bins=100 )#, range=[-4, 0], histtype='step')\n",
    "        plt.hist(ganevents[:, 2], bins=100 )#, range=[-4, 0], histtype='step')\n",
    "        plt.title(\"s2\")\n",
    "        plt.show()\n",
    "        \n",
    "        plt.hist(clas_origin[:, 3], bins=100 )#, range=[-6, 1], histtype='step')\n",
    "        plt.hist(ganevents[:, 3], bins=100 )#, range=[-6, 1], histtype='step')\n",
    "        plt.title(\"t1\")\n",
    "        plt.show()\n",
    "        \n",
    "        plt.hist(clas_origin[:, 4], bins=100 )#, range=[-4, 1], histtype='step')\n",
    "        plt.hist(ganevents[:, 4], bins=100 )#, range=[-4, 1], histtype='step')\n",
    "        plt.title(\"pipphi\")\n",
    "        plt.show()\n",
    "        \n",
    "        plt.hist(clas_origin[:, 5], bins=100 )#, range=[1, 7], histtype='step')\n",
    "        plt.hist(ganevents[:, 5], bins=100 )#, range=[1, 7], histtype='step')\n",
    "        plt.title(\"alpha\")\n",
    "        plt.show()\n",
    "        \n",
    "        plt.hist(clas_origin[:, 6], bins=100 )#, range=[-0.3, 0.3], histtype='step')\n",
    "        plt.hist(ganevents[:, 6], bins=100 )#, range=[-0.3, 0.3], histtype='step')\n",
    "        plt.title(\"M2pi\")\n",
    "        plt.show()\n",
    "\n",
    "        plt.hist(clas_origin[:, 7], bins=100 )#, range=[0, 2], histtype='step')\n",
    "        plt.hist(ganevents[:, 7], bins=100 )#, range=[0, 2], histtype='step')\n",
    "        plt.title(\"MMP\")\n",
    "        plt.show()\n",
    "\n",
    "\n",
    "        plt.figure(figsize=(8, 4))\n",
    "        plt.subplot(1, 2, 1)\n",
    "        plt.hist2d(clas_origin[:, 6], clas_origin[:, 7], bins= (100, 100), range=[[-0.2, 0.2], [0, 2]], cmap='jet', norm=mcol.LogNorm())\n",
    "        plt.xlabel(\"M2pi\")\n",
    "        plt.ylabel(\"MMP\")\n",
    "        plt.title(\"CLAS M2pi MMP\")\n",
    "        plt.subplot(1, 2, 2)\n",
    "        plt.hist2d(ganevents[:, 6], ganevents[:, 7], bins= (100, 100), range=[[-0.2, 0.2], [0, 2]], cmap='jet', norm=mcol.LogNorm())\n",
    "        plt.xlabel(\"M2pi\")\n",
    "        plt.title(\"GAN M2pi MMP\")\n",
    "        plt.show()\n",
    "        \n",
    "        index = np.where(ganevents[:, 6]>0.08)\n",
    "        ganMMP_cut = mpx2[index]\n",
    "        plt.hist(MMP_cut, bins=200, range=[0, 2], histtype='step')\n",
    "        plt.hist(ganMMP_cut, bins=200, range=[0, 2], histtype='step')\n",
    "        plt.title(\"MMP\")\n",
    "        plt.show()\n",
    "        \n",
    "        generator.save_weights(imagedir+\"generatorfilter\"+str(epoch//10).zfill(5)+\".h5\")\n",
    "        discriminator.save_weights(imagedir+\"discriminatorfilter\"+str(epoch//10).zfill(5)+\".h5\")\n",
    "        \n",
    "        np.save(\"clasfilter%d.npy\"%(epoch//10), ganevents)"
   ]
  },
  {
   "cell_type": "code",
   "execution_count": 51,
   "metadata": {},
   "outputs": [
    {
     "name": "stderr",
     "output_type": "stream",
     "text": [
      "/home/pawel/Extras/anaconda3/envs/jlabML/lib/python3.6/site-packages/ipykernel_launcher.py:3: RuntimeWarning: invalid value encountered in sqrt\n",
      "  This is separate from the ipykernel package so we can avoid doing imports until\n"
     ]
    },
    {
     "data": {
      "image/png": "[encoded data removed]",
      "text/plain": [
       "<Figure size 432x288 with 1 Axes>"
      ]
     },
     "metadata": {
      "needs_background": "light"
     },
     "output_type": "display_data"
    }
   ],
   "source": [
    "index = np.where(ganevents[:, 7]>0.08)\n",
    "ganMMP_cut = mpx2[index]\n",
    "plt.hist(np.sqrt(MMP_cut), bins=200, range=[0, 2], histtype='step')\n",
    "plt.hist(np.sqrt(ganMMP_cut), bins=200, range=[0, 2], histtype='step')\n",
    "plt.title(\"MMP\")\n",
    "plt.show()"
   ]
  },
  {
   "cell_type": "code",
   "execution_count": null,
   "metadata": {},
   "outputs": [],
   "source": [
    "MMP"
   ]
  },
  {
   "cell_type": "code",
   "execution_count": null,
   "metadata": {},
   "outputs": [],
   "source": [
    "M2PI"
   ]
  },
  {
   "cell_type": "code",
   "execution_count": 58,
   "metadata": {},
   "outputs": [],
   "source": [
    "generator.load_weights(\"generatorfilter00001.h5\")\n",
    "discriminator.load_weights(\"discriminatorfilter00001.h5\")"
   ]
  },
  {
   "cell_type": "code",
   "execution_count": null,
   "metadata": {},
   "outputs": [],
   "source": [
    "def detector_filter_gamma(n, gamma_c):\n",
    "    \n",
    "    SAMPLE_SIZE = int(1.5*n)\n",
    "\n",
    "    noise = np.random.normal(0, 1, [SAMPLE_SIZE, 100])\n",
    "    gamma = gamma_dist_rand(SAMPLE_SIZE)\n",
    "#     gamma = np.full((SAMPLE_SIZE, 1), gamma_c)\n",
    "    gamma = (gamma - gammamean)/gammastd\n",
    "    results_origin = generator.predict([gamma, noise], batch_size=BATCH_SIZE)\n",
    "    ppipxy = results_origin[:, [1, 2, 4, 5]]\n",
    "    ppipxy = ppipxy*ppipxystd+ppipxymean\n",
    "\n",
    "    ptheta = np.arctan2(ppipxy[:, 1], ppipxy[:, 0])\n",
    "    ptheta = ptheta.reshape(-1, 1)\n",
    "    piptheta = np.arctan2(ppipxy[:, 3], ppipxy[:, 2])\n",
    "    piptheta = piptheta.reshape(-1, 1)\n",
    "    theta = np.concatenate([ptheta, piptheta], axis=1)\n",
    "    theta = np.floor(theta/np.pi*180+205)%60\n",
    "\n",
    "    index = np.where((theta[:, 0]<=50)&(theta[:, 1]<=50))\n",
    "\n",
    "    noise = noise[index]\n",
    "    results_origin = results_origin[index]\n",
    "    return noise[:n], results_origin[:n]"
   ]
  },
  {
   "cell_type": "code",
   "execution_count": null,
   "metadata": {},
   "outputs": [],
   "source": [
    "SAMPLE_SIZE = events.shape[0]\n",
    "#         noise= np.random.normal(0, 1, [SAMPLE_SIZE, 100])\n",
    "noise, results = detector_filter_gamma(SAMPLE_SIZE, 3.0)\n",
    "#         results = generator.predict(noise)\n",
    "results = results*classtd+clasmean\n",
    "\n",
    "M2pi = results[:, 13]\n",
    "gamma = results[:, 0]\n",
    "px = results[:, 1]\n",
    "py = results[:, 2]\n",
    "pz = results[:, 3]\n",
    "#         px = cbrtpx*cbrtpx*cbrtpx\n",
    "#         py = cbrtpy*cbrtpy*cbrtpy\n",
    "#         pz = cbrtpz*cbrtpz*cbrtpz\n",
    "pe = results[:, 10]\n",
    "pipx = results[:, 4]\n",
    "#         cbrtpipy = results[:, 6]\n",
    "pipy = results[:, 5]\n",
    "pipz = results[:, 6]\n",
    "#         pipx = cbrtpipx*cbrtpipx*cbrtpipx\n",
    "#         pipy = cbrtpipy*cbrtpipy*cbrtpipy\n",
    "#         pipz = cbrtpipz*cbrtpipz*cbrtpipz\n",
    "pipe = results[:, 11]\n",
    "pimx = results[:, 7]\n",
    "pimy = results[:, 8]\n",
    "pimz = results[:, 9]\n",
    "pime = results[:, 12]\n",
    "\n",
    "\n",
    "ganevents = np.stack([M2pi, gamma, px, pipx, pimx, py, pipy, pimy, pz, pipz, pimz, pe, pipe, pime], axis=1)\n",
    "np.save(\"clasfiltercond.npy\", ganevents)"
   ]
  },
  {
   "cell_type": "code",
   "execution_count": null,
   "metadata": {},
   "outputs": [],
   "source": [
    "SAMPLE_SIZE = events.shape[0]*10\n",
    "noise= np.random.normal(0, 1, [SAMPLE_SIZE, 100])\n",
    "gamma = np.full((SAMPLE_SIZE, 1), 3.0)"
   ]
  },
  {
   "cell_type": "code",
   "execution_count": null,
   "metadata": {},
   "outputs": [],
   "source": [
    "noise.shape"
   ]
  },
  {
   "cell_type": "code",
   "execution_count": null,
   "metadata": {},
   "outputs": [],
   "source": [
    "gamma.shape"
   ]
  },
  {
   "cell_type": "code",
   "execution_count": null,
   "metadata": {},
   "outputs": [],
   "source": [
    "SAMPLE_SIZE = events.shape[0]\n",
    "noise= np.random.normal(0, 1, [SAMPLE_SIZE, 100])\n",
    "# gamma = np.full((SAMPLE_SIZE, 1), 2.0)\n",
    "gamma = gamma_dist_rand(SAMPLE_SIZE)\n",
    "gamma = (gamma - gammamean)/gammastd\n",
    "results = generator.predict([gamma, noise], batch_size=BATCH_SIZE)\n",
    "results = results*classtd+clasmean\n",
    "\n",
    "M2pi = results[:, 13]\n",
    "gamma = results[:, 0]\n",
    "px = results[:, 1]\n",
    "py = results[:, 2]\n",
    "pz = results[:, 3]\n",
    "#         px = cbrtpx*cbrtpx*cbrtpx\n",
    "#         py = cbrtpy*cbrtpy*cbrtpy\n",
    "#         pz = cbrtpz*cbrtpz*cbrtpz\n",
    "pe = results[:, 10]\n",
    "pipx = results[:, 4]\n",
    "#         cbrtpipy = results[:, 6]\n",
    "pipy = results[:, 5]\n",
    "pipz = results[:, 6]\n",
    "#         pipx = cbrtpipx*cbrtpipx*cbrtpipx\n",
    "#         pipy = cbrtpipy*cbrtpipy*cbrtpipy\n",
    "#         pipz = cbrtpipz*cbrtpipz*cbrtpipz\n",
    "pipe = results[:, 11]\n",
    "pimx = results[:, 7]\n",
    "pimy = results[:, 8]\n",
    "pimz = results[:, 9]\n",
    "pime = results[:, 12]\n",
    "\n",
    "\n",
    "ganevents = np.stack([M2pi, gamma, px, pipx, pimx, py, pipy, pimy, pz, pipz, pimz, pe, pipe, pime], axis=1)\n",
    "np.save(\"clasfiltercond_unfold.npy\", ganevents)"
   ]
  }
 ],
 "metadata": {
  "kernelspec": {
   "display_name": "Python 3",
   "language": "python",
   "name": "python3"
  },
  "language_info": {
   "codemirror_mode": {
    "name": "ipython",
    "version": 3
   },
   "file_extension": ".py",
   "mimetype": "text/x-python",
   "name": "python",
   "nbconvert_exporter": "python",
   "pygments_lexer": "ipython3",
   "version": "3.6.12"
  }
 },
 "nbformat": 4,
 "nbformat_minor": 2
}
